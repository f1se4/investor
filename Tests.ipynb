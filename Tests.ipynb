{
 "cells": [
  {
   "cell_type": "code",
   "execution_count": 1,
   "id": "77677bb0",
   "metadata": {},
   "outputs": [],
   "source": [
    "import yfinance as yf"
   ]
  },
  {
   "cell_type": "code",
   "execution_count": 2,
   "id": "0a8ffa24",
   "metadata": {},
   "outputs": [
    {
     "name": "stderr",
     "output_type": "stream",
     "text": [
      "[*********************100%%**********************]  1 of 1 completed\n"
     ]
    }
   ],
   "source": [
    "stock = yf.download('A500.MI',period='max')"
   ]
  },
  {
   "cell_type": "code",
   "execution_count": 3,
   "id": "a44a8aa2",
   "metadata": {},
   "outputs": [
    {
     "data": {
      "text/html": [
       "<div>\n",
       "<style scoped>\n",
       "    .dataframe tbody tr th:only-of-type {\n",
       "        vertical-align: middle;\n",
       "    }\n",
       "\n",
       "    .dataframe tbody tr th {\n",
       "        vertical-align: top;\n",
       "    }\n",
       "\n",
       "    .dataframe thead th {\n",
       "        text-align: right;\n",
       "    }\n",
       "</style>\n",
       "<table border=\"1\" class=\"dataframe\">\n",
       "  <thead>\n",
       "    <tr style=\"text-align: right;\">\n",
       "      <th></th>\n",
       "      <th>Open</th>\n",
       "      <th>High</th>\n",
       "      <th>Low</th>\n",
       "      <th>Close</th>\n",
       "      <th>Adj Close</th>\n",
       "      <th>Volume</th>\n",
       "    </tr>\n",
       "    <tr>\n",
       "      <th>Date</th>\n",
       "      <th></th>\n",
       "      <th></th>\n",
       "      <th></th>\n",
       "      <th></th>\n",
       "      <th></th>\n",
       "      <th></th>\n",
       "    </tr>\n",
       "  </thead>\n",
       "  <tbody>\n",
       "    <tr>\n",
       "      <th>2018-03-22</th>\n",
       "      <td>38.529999</td>\n",
       "      <td>38.724998</td>\n",
       "      <td>38.275002</td>\n",
       "      <td>38.494999</td>\n",
       "      <td>38.494999</td>\n",
       "      <td>20477</td>\n",
       "    </tr>\n",
       "    <tr>\n",
       "      <th>2018-03-23</th>\n",
       "      <td>37.750000</td>\n",
       "      <td>38.049999</td>\n",
       "      <td>37.610001</td>\n",
       "      <td>37.730000</td>\n",
       "      <td>37.730000</td>\n",
       "      <td>45786</td>\n",
       "    </tr>\n",
       "    <tr>\n",
       "      <th>2018-03-26</th>\n",
       "      <td>37.490002</td>\n",
       "      <td>37.540001</td>\n",
       "      <td>36.965000</td>\n",
       "      <td>37.064999</td>\n",
       "      <td>37.064999</td>\n",
       "      <td>282015</td>\n",
       "    </tr>\n",
       "    <tr>\n",
       "      <th>2018-03-27</th>\n",
       "      <td>37.915001</td>\n",
       "      <td>38.165001</td>\n",
       "      <td>37.845001</td>\n",
       "      <td>37.924999</td>\n",
       "      <td>37.924999</td>\n",
       "      <td>53260</td>\n",
       "    </tr>\n",
       "    <tr>\n",
       "      <th>2018-03-28</th>\n",
       "      <td>37.520000</td>\n",
       "      <td>37.520000</td>\n",
       "      <td>37.080002</td>\n",
       "      <td>37.264999</td>\n",
       "      <td>37.264999</td>\n",
       "      <td>61077</td>\n",
       "    </tr>\n",
       "    <tr>\n",
       "      <th>...</th>\n",
       "      <td>...</td>\n",
       "      <td>...</td>\n",
       "      <td>...</td>\n",
       "      <td>...</td>\n",
       "      <td>...</td>\n",
       "      <td>...</td>\n",
       "    </tr>\n",
       "    <tr>\n",
       "      <th>2024-07-02</th>\n",
       "      <td>99.459999</td>\n",
       "      <td>99.760002</td>\n",
       "      <td>99.220001</td>\n",
       "      <td>99.720001</td>\n",
       "      <td>99.720001</td>\n",
       "      <td>1710</td>\n",
       "    </tr>\n",
       "    <tr>\n",
       "      <th>2024-07-03</th>\n",
       "      <td>100.029999</td>\n",
       "      <td>100.160004</td>\n",
       "      <td>99.629997</td>\n",
       "      <td>99.849998</td>\n",
       "      <td>99.849998</td>\n",
       "      <td>2331</td>\n",
       "    </tr>\n",
       "    <tr>\n",
       "      <th>2024-07-04</th>\n",
       "      <td>100.239998</td>\n",
       "      <td>100.279999</td>\n",
       "      <td>100.010002</td>\n",
       "      <td>100.000000</td>\n",
       "      <td>100.000000</td>\n",
       "      <td>1825</td>\n",
       "    </tr>\n",
       "    <tr>\n",
       "      <th>2024-07-05</th>\n",
       "      <td>100.129997</td>\n",
       "      <td>100.190002</td>\n",
       "      <td>99.860001</td>\n",
       "      <td>100.110001</td>\n",
       "      <td>100.110001</td>\n",
       "      <td>19015</td>\n",
       "    </tr>\n",
       "    <tr>\n",
       "      <th>2024-07-08</th>\n",
       "      <td>100.389999</td>\n",
       "      <td>100.540001</td>\n",
       "      <td>100.269997</td>\n",
       "      <td>100.510002</td>\n",
       "      <td>100.510002</td>\n",
       "      <td>5979</td>\n",
       "    </tr>\n",
       "  </tbody>\n",
       "</table>\n",
       "<p>1600 rows × 6 columns</p>\n",
       "</div>"
      ],
      "text/plain": [
       "                  Open        High         Low       Close   Adj Close  Volume\n",
       "Date                                                                          \n",
       "2018-03-22   38.529999   38.724998   38.275002   38.494999   38.494999   20477\n",
       "2018-03-23   37.750000   38.049999   37.610001   37.730000   37.730000   45786\n",
       "2018-03-26   37.490002   37.540001   36.965000   37.064999   37.064999  282015\n",
       "2018-03-27   37.915001   38.165001   37.845001   37.924999   37.924999   53260\n",
       "2018-03-28   37.520000   37.520000   37.080002   37.264999   37.264999   61077\n",
       "...                ...         ...         ...         ...         ...     ...\n",
       "2024-07-02   99.459999   99.760002   99.220001   99.720001   99.720001    1710\n",
       "2024-07-03  100.029999  100.160004   99.629997   99.849998   99.849998    2331\n",
       "2024-07-04  100.239998  100.279999  100.010002  100.000000  100.000000    1825\n",
       "2024-07-05  100.129997  100.190002   99.860001  100.110001  100.110001   19015\n",
       "2024-07-08  100.389999  100.540001  100.269997  100.510002  100.510002    5979\n",
       "\n",
       "[1600 rows x 6 columns]"
      ]
     },
     "execution_count": 3,
     "metadata": {},
     "output_type": "execute_result"
    }
   ],
   "source": [
    "stock"
   ]
  },
  {
   "cell_type": "code",
   "execution_count": 9,
   "id": "6d660174",
   "metadata": {},
   "outputs": [
    {
     "data": {
      "text/plain": [
       "Timestamp('2023-01-31 00:00:00')"
      ]
     },
     "execution_count": 9,
     "metadata": {},
     "output_type": "execute_result"
    }
   ],
   "source": [
    "stock['2020-02':'2023-01'].index[-1]"
   ]
  },
  {
   "cell_type": "code",
   "execution_count": null,
   "id": "9131bf5a",
   "metadata": {},
   "outputs": [],
   "source": []
  }
 ],
 "metadata": {
  "kernelspec": {
   "display_name": "Python 3 (ipykernel)",
   "language": "python",
   "name": "python3"
  },
  "language_info": {
   "codemirror_mode": {
    "name": "ipython",
    "version": 3
   },
   "file_extension": ".py",
   "mimetype": "text/x-python",
   "name": "python",
   "nbconvert_exporter": "python",
   "pygments_lexer": "ipython3",
   "version": "3.11.9"
  }
 },
 "nbformat": 4,
 "nbformat_minor": 5
}
