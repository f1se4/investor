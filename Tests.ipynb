{
 "cells": [
  {
   "cell_type": "code",
   "execution_count": 1,
   "id": "d9b6b206",
   "metadata": {},
   "outputs": [],
   "source": [
    "import yfinance as yf"
   ]
  },
  {
   "cell_type": "code",
   "execution_count": 2,
   "id": "8d68be09",
   "metadata": {},
   "outputs": [
    {
     "name": "stderr",
     "output_type": "stream",
     "text": [
      "[*********************100%%**********************]  1 of 1 completed\n"
     ]
    }
   ],
   "source": [
    "stock = yf.download('A500.MI',period='max')"
   ]
  },
  {
   "cell_type": "code",
   "execution_count": 3,
   "id": "fb3f5ffd",
   "metadata": {},
   "outputs": [
    {
     "data": {
      "text/html": [
       "<div>\n",
       "<style scoped>\n",
       "    .dataframe tbody tr th:only-of-type {\n",
       "        vertical-align: middle;\n",
       "    }\n",
       "\n",
       "    .dataframe tbody tr th {\n",
       "        vertical-align: top;\n",
       "    }\n",
       "\n",
       "    .dataframe thead th {\n",
       "        text-align: right;\n",
       "    }\n",
       "</style>\n",
       "<table border=\"1\" class=\"dataframe\">\n",
       "  <thead>\n",
       "    <tr style=\"text-align: right;\">\n",
       "      <th></th>\n",
       "      <th>Open</th>\n",
       "      <th>High</th>\n",
       "      <th>Low</th>\n",
       "      <th>Close</th>\n",
       "      <th>Adj Close</th>\n",
       "      <th>Volume</th>\n",
       "    </tr>\n",
       "    <tr>\n",
       "      <th>Date</th>\n",
       "      <th></th>\n",
       "      <th></th>\n",
       "      <th></th>\n",
       "      <th></th>\n",
       "      <th></th>\n",
       "      <th></th>\n",
       "    </tr>\n",
       "  </thead>\n",
       "  <tbody>\n",
       "    <tr>\n",
       "      <th>2018-03-22</th>\n",
       "      <td>38.529999</td>\n",
       "      <td>38.724998</td>\n",
       "      <td>38.275002</td>\n",
       "      <td>38.494999</td>\n",
       "      <td>38.494999</td>\n",
       "      <td>20477</td>\n",
       "    </tr>\n",
       "    <tr>\n",
       "      <th>2018-03-23</th>\n",
       "      <td>37.750000</td>\n",
       "      <td>38.049999</td>\n",
       "      <td>37.610001</td>\n",
       "      <td>37.730000</td>\n",
       "      <td>37.730000</td>\n",
       "      <td>45786</td>\n",
       "    </tr>\n",
       "    <tr>\n",
       "      <th>2018-03-26</th>\n",
       "      <td>37.490002</td>\n",
       "      <td>37.540001</td>\n",
       "      <td>36.965000</td>\n",
       "      <td>37.064999</td>\n",
       "      <td>37.064999</td>\n",
       "      <td>282015</td>\n",
       "    </tr>\n",
       "    <tr>\n",
       "      <th>2018-03-27</th>\n",
       "      <td>37.915001</td>\n",
       "      <td>38.165001</td>\n",
       "      <td>37.845001</td>\n",
       "      <td>37.924999</td>\n",
       "      <td>37.924999</td>\n",
       "      <td>53260</td>\n",
       "    </tr>\n",
       "    <tr>\n",
       "      <th>2018-03-28</th>\n",
       "      <td>37.520000</td>\n",
       "      <td>37.520000</td>\n",
       "      <td>37.080002</td>\n",
       "      <td>37.264999</td>\n",
       "      <td>37.264999</td>\n",
       "      <td>61077</td>\n",
       "    </tr>\n",
       "    <tr>\n",
       "      <th>...</th>\n",
       "      <td>...</td>\n",
       "      <td>...</td>\n",
       "      <td>...</td>\n",
       "      <td>...</td>\n",
       "      <td>...</td>\n",
       "      <td>...</td>\n",
       "    </tr>\n",
       "    <tr>\n",
       "      <th>2024-07-02</th>\n",
       "      <td>99.459999</td>\n",
       "      <td>99.760002</td>\n",
       "      <td>99.220001</td>\n",
       "      <td>99.720001</td>\n",
       "      <td>99.720001</td>\n",
       "      <td>1710</td>\n",
       "    </tr>\n",
       "    <tr>\n",
       "      <th>2024-07-03</th>\n",
       "      <td>100.029999</td>\n",
       "      <td>100.160004</td>\n",
       "      <td>99.629997</td>\n",
       "      <td>99.849998</td>\n",
       "      <td>99.849998</td>\n",
       "      <td>2331</td>\n",
       "    </tr>\n",
       "    <tr>\n",
       "      <th>2024-07-04</th>\n",
       "      <td>100.239998</td>\n",
       "      <td>100.279999</td>\n",
       "      <td>100.010002</td>\n",
       "      <td>100.000000</td>\n",
       "      <td>100.000000</td>\n",
       "      <td>1825</td>\n",
       "    </tr>\n",
       "    <tr>\n",
       "      <th>2024-07-05</th>\n",
       "      <td>100.129997</td>\n",
       "      <td>100.190002</td>\n",
       "      <td>99.860001</td>\n",
       "      <td>100.110001</td>\n",
       "      <td>100.110001</td>\n",
       "      <td>19015</td>\n",
       "    </tr>\n",
       "    <tr>\n",
       "      <th>2024-07-08</th>\n",
       "      <td>100.389999</td>\n",
       "      <td>100.540001</td>\n",
       "      <td>100.269997</td>\n",
       "      <td>100.510002</td>\n",
       "      <td>100.510002</td>\n",
       "      <td>5979</td>\n",
       "    </tr>\n",
       "  </tbody>\n",
       "</table>\n",
       "<p>1600 rows × 6 columns</p>\n",
       "</div>"
      ],
      "text/plain": [
       "                  Open        High         Low       Close   Adj Close  Volume\n",
       "Date                                                                          \n",
       "2018-03-22   38.529999   38.724998   38.275002   38.494999   38.494999   20477\n",
       "2018-03-23   37.750000   38.049999   37.610001   37.730000   37.730000   45786\n",
       "2018-03-26   37.490002   37.540001   36.965000   37.064999   37.064999  282015\n",
       "2018-03-27   37.915001   38.165001   37.845001   37.924999   37.924999   53260\n",
       "2018-03-28   37.520000   37.520000   37.080002   37.264999   37.264999   61077\n",
       "...                ...         ...         ...         ...         ...     ...\n",
       "2024-07-02   99.459999   99.760002   99.220001   99.720001   99.720001    1710\n",
       "2024-07-03  100.029999  100.160004   99.629997   99.849998   99.849998    2331\n",
       "2024-07-04  100.239998  100.279999  100.010002  100.000000  100.000000    1825\n",
       "2024-07-05  100.129997  100.190002   99.860001  100.110001  100.110001   19015\n",
       "2024-07-08  100.389999  100.540001  100.269997  100.510002  100.510002    5979\n",
       "\n",
       "[1600 rows x 6 columns]"
      ]
     },
     "execution_count": 3,
     "metadata": {},
     "output_type": "execute_result"
    }
   ],
   "source": [
    "stock"
   ]
  },
  {
   "cell_type": "code",
   "execution_count": 9,
   "id": "7ef829bb",
   "metadata": {},
   "outputs": [
    {
     "data": {
      "text/plain": [
       "Timestamp('2023-01-31 00:00:00')"
      ]
     },
     "execution_count": 9,
     "metadata": {},
     "output_type": "execute_result"
    }
   ],
   "source": [
    "stock['2020-02':'2023-01'].index[-1]"
   ]
  },
  {
   "cell_type": "code",
   "execution_count": 10,
   "id": "9bc5934e",
   "metadata": {},
   "outputs": [
    {
     "name": "stderr",
     "output_type": "stream",
     "text": [
      "[*********************100%%**********************]  1 of 1 completed\n"
     ]
    }
   ],
   "source": [
    "stock_today = yf.download('A500.MI', period='1d')"
   ]
  },
  {
   "cell_type": "code",
   "execution_count": 11,
   "id": "c12b4242",
   "metadata": {},
   "outputs": [
    {
     "data": {
      "text/html": [
       "<div>\n",
       "<style scoped>\n",
       "    .dataframe tbody tr th:only-of-type {\n",
       "        vertical-align: middle;\n",
       "    }\n",
       "\n",
       "    .dataframe tbody tr th {\n",
       "        vertical-align: top;\n",
       "    }\n",
       "\n",
       "    .dataframe thead th {\n",
       "        text-align: right;\n",
       "    }\n",
       "</style>\n",
       "<table border=\"1\" class=\"dataframe\">\n",
       "  <thead>\n",
       "    <tr style=\"text-align: right;\">\n",
       "      <th></th>\n",
       "      <th>Open</th>\n",
       "      <th>High</th>\n",
       "      <th>Low</th>\n",
       "      <th>Close</th>\n",
       "      <th>Adj Close</th>\n",
       "      <th>Volume</th>\n",
       "    </tr>\n",
       "    <tr>\n",
       "      <th>Date</th>\n",
       "      <th></th>\n",
       "      <th></th>\n",
       "      <th></th>\n",
       "      <th></th>\n",
       "      <th></th>\n",
       "      <th></th>\n",
       "    </tr>\n",
       "  </thead>\n",
       "  <tbody>\n",
       "    <tr>\n",
       "      <th>2024-07-08</th>\n",
       "      <td>100.389999</td>\n",
       "      <td>100.540001</td>\n",
       "      <td>100.269997</td>\n",
       "      <td>100.510002</td>\n",
       "      <td>100.510002</td>\n",
       "      <td>5979</td>\n",
       "    </tr>\n",
       "  </tbody>\n",
       "</table>\n",
       "</div>"
      ],
      "text/plain": [
       "                  Open        High         Low       Close   Adj Close  Volume\n",
       "Date                                                                          \n",
       "2024-07-08  100.389999  100.540001  100.269997  100.510002  100.510002    5979"
      ]
     },
     "execution_count": 11,
     "metadata": {},
     "output_type": "execute_result"
    }
   ],
   "source": [
    "stock_today"
   ]
  },
  {
   "cell_type": "code",
   "execution_count": 14,
   "id": "5cff0969",
   "metadata": {},
   "outputs": [
    {
     "name": "stderr",
     "output_type": "stream",
     "text": [
      "[*********************100%%**********************]  1 of 1 completed\n"
     ]
    },
    {
     "data": {
      "text/html": [
       "<div>\n",
       "<style scoped>\n",
       "    .dataframe tbody tr th:only-of-type {\n",
       "        vertical-align: middle;\n",
       "    }\n",
       "\n",
       "    .dataframe tbody tr th {\n",
       "        vertical-align: top;\n",
       "    }\n",
       "\n",
       "    .dataframe thead th {\n",
       "        text-align: right;\n",
       "    }\n",
       "</style>\n",
       "<table border=\"1\" class=\"dataframe\">\n",
       "  <thead>\n",
       "    <tr style=\"text-align: right;\">\n",
       "      <th></th>\n",
       "      <th>Open</th>\n",
       "      <th>High</th>\n",
       "      <th>Low</th>\n",
       "      <th>Close</th>\n",
       "      <th>Adj Close</th>\n",
       "      <th>Volume</th>\n",
       "    </tr>\n",
       "    <tr>\n",
       "      <th>Datetime</th>\n",
       "      <th></th>\n",
       "      <th></th>\n",
       "      <th></th>\n",
       "      <th></th>\n",
       "      <th></th>\n",
       "      <th></th>\n",
       "    </tr>\n",
       "  </thead>\n",
       "  <tbody>\n",
       "    <tr>\n",
       "      <th>2024-07-09 09:04:00+02:00</th>\n",
       "      <td>100.739998</td>\n",
       "      <td>100.739998</td>\n",
       "      <td>100.739998</td>\n",
       "      <td>100.739998</td>\n",
       "      <td>100.739998</td>\n",
       "      <td>0</td>\n",
       "    </tr>\n",
       "    <tr>\n",
       "      <th>2024-07-09 09:11:00+02:00</th>\n",
       "      <td>100.669998</td>\n",
       "      <td>100.669998</td>\n",
       "      <td>100.669998</td>\n",
       "      <td>100.669998</td>\n",
       "      <td>100.669998</td>\n",
       "      <td>3</td>\n",
       "    </tr>\n",
       "    <tr>\n",
       "      <th>2024-07-09 09:35:00+02:00</th>\n",
       "      <td>100.800003</td>\n",
       "      <td>100.800003</td>\n",
       "      <td>100.800003</td>\n",
       "      <td>100.800003</td>\n",
       "      <td>100.800003</td>\n",
       "      <td>10</td>\n",
       "    </tr>\n",
       "    <tr>\n",
       "      <th>2024-07-09 09:45:00+02:00</th>\n",
       "      <td>100.839996</td>\n",
       "      <td>100.839996</td>\n",
       "      <td>100.839996</td>\n",
       "      <td>100.839996</td>\n",
       "      <td>100.839996</td>\n",
       "      <td>284</td>\n",
       "    </tr>\n",
       "    <tr>\n",
       "      <th>2024-07-09 09:53:00+02:00</th>\n",
       "      <td>100.820000</td>\n",
       "      <td>100.820000</td>\n",
       "      <td>100.820000</td>\n",
       "      <td>100.820000</td>\n",
       "      <td>100.820000</td>\n",
       "      <td>7</td>\n",
       "    </tr>\n",
       "    <tr>\n",
       "      <th>2024-07-09 10:01:00+02:00</th>\n",
       "      <td>100.900002</td>\n",
       "      <td>100.900002</td>\n",
       "      <td>100.900002</td>\n",
       "      <td>100.900002</td>\n",
       "      <td>100.900002</td>\n",
       "      <td>32</td>\n",
       "    </tr>\n",
       "    <tr>\n",
       "      <th>2024-07-09 10:08:00+02:00</th>\n",
       "      <td>100.900002</td>\n",
       "      <td>100.900002</td>\n",
       "      <td>100.900002</td>\n",
       "      <td>100.900002</td>\n",
       "      <td>100.900002</td>\n",
       "      <td>2</td>\n",
       "    </tr>\n",
       "    <tr>\n",
       "      <th>2024-07-09 10:19:00+02:00</th>\n",
       "      <td>100.870003</td>\n",
       "      <td>100.870003</td>\n",
       "      <td>100.870003</td>\n",
       "      <td>100.870003</td>\n",
       "      <td>100.870003</td>\n",
       "      <td>0</td>\n",
       "    </tr>\n",
       "  </tbody>\n",
       "</table>\n",
       "</div>"
      ],
      "text/plain": [
       "                                 Open        High         Low       Close  \\\n",
       "Datetime                                                                    \n",
       "2024-07-09 09:04:00+02:00  100.739998  100.739998  100.739998  100.739998   \n",
       "2024-07-09 09:11:00+02:00  100.669998  100.669998  100.669998  100.669998   \n",
       "2024-07-09 09:35:00+02:00  100.800003  100.800003  100.800003  100.800003   \n",
       "2024-07-09 09:45:00+02:00  100.839996  100.839996  100.839996  100.839996   \n",
       "2024-07-09 09:53:00+02:00  100.820000  100.820000  100.820000  100.820000   \n",
       "2024-07-09 10:01:00+02:00  100.900002  100.900002  100.900002  100.900002   \n",
       "2024-07-09 10:08:00+02:00  100.900002  100.900002  100.900002  100.900002   \n",
       "2024-07-09 10:19:00+02:00  100.870003  100.870003  100.870003  100.870003   \n",
       "\n",
       "                            Adj Close  Volume  \n",
       "Datetime                                       \n",
       "2024-07-09 09:04:00+02:00  100.739998       0  \n",
       "2024-07-09 09:11:00+02:00  100.669998       3  \n",
       "2024-07-09 09:35:00+02:00  100.800003      10  \n",
       "2024-07-09 09:45:00+02:00  100.839996     284  \n",
       "2024-07-09 09:53:00+02:00  100.820000       7  \n",
       "2024-07-09 10:01:00+02:00  100.900002      32  \n",
       "2024-07-09 10:08:00+02:00  100.900002       2  \n",
       "2024-07-09 10:19:00+02:00  100.870003       0  "
      ]
     },
     "execution_count": 14,
     "metadata": {},
     "output_type": "execute_result"
    }
   ],
   "source": [
    "yf.download('A500.MI', period='1d', interval='1m')"
   ]
  },
  {
   "cell_type": "code",
   "execution_count": 15,
   "id": "80206cc0",
   "metadata": {},
   "outputs": [],
   "source": [
    "stock = yf.Ticker('A500.MI')"
   ]
  },
  {
   "cell_type": "code",
   "execution_count": 16,
   "id": "1bdd11a1",
   "metadata": {},
   "outputs": [
    {
     "data": {
      "text/plain": [
       "yfinance.Ticker object <A500.MI>"
      ]
     },
     "execution_count": 16,
     "metadata": {},
     "output_type": "execute_result"
    }
   ],
   "source": [
    "stock"
   ]
  },
  {
   "cell_type": "code",
   "execution_count": 17,
   "id": "9294748a",
   "metadata": {},
   "outputs": [
    {
     "data": {
      "text/plain": [
       "lazy-loading dict with keys = ['currency', 'dayHigh', 'dayLow', 'exchange', 'fiftyDayAverage', 'lastPrice', 'lastVolume', 'marketCap', 'open', 'previousClose', 'quoteType', 'regularMarketPreviousClose', 'shares', 'tenDayAverageVolume', 'threeMonthAverageVolume', 'timezone', 'twoHundredDayAverage', 'yearChange', 'yearHigh', 'yearLow']"
      ]
     },
     "execution_count": 17,
     "metadata": {},
     "output_type": "execute_result"
    }
   ],
   "source": [
    "stock.basic_info"
   ]
  },
  {
   "cell_type": "code",
   "execution_count": 24,
   "id": "9f9fcf3a",
   "metadata": {},
   "outputs": [
    {
     "ename": "AttributeError",
     "evalue": "'Ticker' object has no attribute 'historical_data'",
     "output_type": "error",
     "traceback": [
      "\u001b[0;31m---------------------------------------------------------------------------\u001b[0m",
      "\u001b[0;31mAttributeError\u001b[0m                            Traceback (most recent call last)",
      "Cell \u001b[0;32mIn[24], line 1\u001b[0m\n\u001b[0;32m----> 1\u001b[0m \u001b[43mstock\u001b[49m\u001b[38;5;241;43m.\u001b[39;49m\u001b[43mhistorical_data\u001b[49m()\n",
      "\u001b[0;31mAttributeError\u001b[0m: 'Ticker' object has no attribute 'historical_data'"
     ]
    }
   ],
   "source": [
    "stock.historical_data()"
   ]
  },
  {
   "cell_type": "code",
   "execution_count": 22,
   "id": "1ddd67b3",
   "metadata": {},
   "outputs": [
    {
     "data": {
      "text/plain": [
       "'A500.MI'"
      ]
     },
     "execution_count": 22,
     "metadata": {},
     "output_type": "execute_result"
    }
   ],
   "source": [
    "stock.get_info()['symbol']"
   ]
  },
  {
   "cell_type": "code",
   "execution_count": null,
   "id": "1a3b84d5",
   "metadata": {},
   "outputs": [],
   "source": []
  }
 ],
 "metadata": {
  "kernelspec": {
   "display_name": "Python 3 (ipykernel)",
   "language": "python",
   "name": "python3"
  },
  "language_info": {
   "codemirror_mode": {
    "name": "ipython",
    "version": 3
   },
   "file_extension": ".py",
   "mimetype": "text/x-python",
   "name": "python",
   "nbconvert_exporter": "python",
   "pygments_lexer": "ipython3",
   "version": "3.11.9"
  }
 },
 "nbformat": 4,
 "nbformat_minor": 5
}
