{
 "cells": [
  {
   "cell_type": "code",
   "execution_count": 1,
   "id": "aa573723",
   "metadata": {},
   "outputs": [],
   "source": [
    "import yfinance as yf\n",
    "import pandas as pd\n",
    "import numpy as np\n",
    "import plotly.graph_objects as go\n",
    "from plotly.subplots import make_subplots\n",
    "import os\n",
    "from calculations.calculations import get_company_name\n",
    "from datetime import timedelta"
   ]
  },
  {
   "cell_type": "code",
   "execution_count": 32,
   "id": "0e155c92",
   "metadata": {},
   "outputs": [
    {
     "name": "stderr",
     "output_type": "stream",
     "text": [
      "[*********************100%%**********************]  1 of 1 completed\n"
     ]
    }
   ],
   "source": [
    "stock = yf.download('^SPX', period='1mo', interval='1h')\n",
    "data = stock.tz_convert('CET')"
   ]
  },
  {
   "cell_type": "code",
   "execution_count": 33,
   "id": "b6eb85ae-d6d7-490a-9de6-7650ab9efd33",
   "metadata": {},
   "outputs": [
    {
     "name": "stdout",
     "output_type": "stream",
     "text": [
      "2024-06-20 15:30:00+02:00\n",
      "2024-07-19 21:30:00+02:00\n"
     ]
    }
   ],
   "source": [
    "# Paso 2: Crear un listado completo de fechas\n",
    "start_date = data.index[0]\n",
    "print(start_date)\n",
    "end_date = data.index[-1]\n",
    "print(end_date)"
   ]
  },
  {
   "cell_type": "code",
   "execution_count": 35,
   "id": "a2e11973-240a-468c-9dcf-e878fa022fe6",
   "metadata": {},
   "outputs": [
    {
     "data": {
      "application/vnd.plotly.v1+json": {
       "config": {
        "plotlyServerURL": "https://plot.ly"
       },
       "data": [
        {
         "close": [
          5495.52001953125,
          5492.77001953125,
          5473.759765625,
          5464.10986328125,
          5484.669921875,
          5475.22998046875,
          5472.4599609375,
          5464.9599609375,
          5465.89990234375,
          5474.25,
          5462.56982421875,
          5468.77978515625,
          5465.43994140625,
          5467.64990234375,
          5474.85009765625,
          5482.27001953125,
          5481.1298828125,
          5463.81005859375,
          5458.25,
          5463.18994140625,
          5448.93017578125,
          5460.85986328125,
          5462.60986328125,
          5458.06005859375,
          5457.89013671875,
          5470.14013671875,
          5472.72021484375,
          5470.43994140625,
          5458.990234375,
          5460.64990234375,
          5472.9501953125,
          5466.10986328125,
          5468.72998046875,
          5467.759765625,
          5478.60986328125,
          5486.91015625,
          5473.669921875,
          5479.7099609375,
          5484.18994140625,
          5469.25,
          5478.740234375,
          5482.10009765625,
          5516.009765625,
          5498.02001953125,
          5490.22998046875,
          5483.52978515625,
          5474.6201171875,
          5468.39013671875,
          5459.16015625,
          5463,
          5462.93017578125,
          5472.919921875,
          5471.02001953125,
          5468.75,
          5464.35009765625,
          5474.5,
          5473.43017578125,
          5481.10009765625,
          5479.10009765625,
          5487.47021484375,
          5498.39013671875,
          5500.669921875,
          5509.27978515625,
          5512.60986328125,
          5521.509765625,
          5532.5400390625,
          5541.169921875,
          5549.1201171875,
          5556.08984375,
          5558.58984375,
          5560.1298828125,
          5563.81982421875,
          5566.68994140625,
          5574.509765625,
          5574.009765625,
          5565.58984375,
          5568.5400390625,
          5571.9599609375,
          5565.68017578125,
          5572.1298828125,
          5579.509765625,
          5579.64990234375,
          5586.3701171875,
          5579.3798828125,
          5576.68994140625,
          5577,
          5577.52001953125,
          5592.7998046875,
          5596.35986328125,
          5608.31005859375,
          5612.72998046875,
          5614.52001953125,
          5619.3798828125,
          5632.97998046875,
          5616.35986328125,
          5591.39990234375,
          5590.93017578125,
          5589.2900390625,
          5580.89990234375,
          5584.16015625,
          5585.509765625,
          5616.6298828125,
          5636.66015625,
          5625.39990234375,
          5643.18017578125,
          5648.81982421875,
          5647.22021484375,
          5615.93017578125,
          5646.240234375,
          5656.43994140625,
          5647.490234375,
          5635.27978515625,
          5636.330078125,
          5639.22021484375,
          5632.56005859375,
          5644.419921875,
          5653.7001953125,
          5644.3798828125,
          5645.759765625,
          5652.22998046875,
          5662.669921875,
          5667.56005859375,
          5605.169921875,
          5603.6298828125,
          5591.41015625,
          5591.52001953125,
          5598.27978515625,
          5598.47021484375,
          5588.18994140625,
          5606.8798828125,
          5555.64013671875,
          5547.330078125,
          5561.39990234375,
          5544.18017578125,
          5532.16015625,
          5545.25,
          5528.83984375,
          5514.259765625,
          5518.60986328125,
          5503.33984375,
          5504.18994140625,
          5517.93017578125,
          5505
         ],
         "high": [
          5505.3701171875,
          5499.509765625,
          5495.43017578125,
          5480.83984375,
          5485.60009765625,
          5485.72998046875,
          5481.4501953125,
          5471.10986328125,
          5473.8701171875,
          5478.31005859375,
          5474.9501953125,
          5469.080078125,
          5469.64013671875,
          5473.009765625,
          5490.66015625,
          5484.68994140625,
          5483.8701171875,
          5483.02001953125,
          5466.3701171875,
          5467.60986328125,
          5464.8798828125,
          5463.10986328125,
          5466.39013671875,
          5465.669921875,
          5458.1298828125,
          5470.16015625,
          5472.8798828125,
          5472.7998046875,
          5468.8701171875,
          5466.919921875,
          5475.56982421875,
          5474.2099609375,
          5470.52978515625,
          5472.009765625,
          5483.14013671875,
          5490.81005859375,
          5489.56005859375,
          5481.52001953125,
          5484.60986328125,
          5485.56005859375,
          5479.0498046875,
          5482.10009765625,
          5523.47021484375,
          5521.39990234375,
          5503.3701171875,
          5491.52978515625,
          5486.18017578125,
          5476.85986328125,
          5474.7001953125,
          5479.5498046875,
          5464.02001953125,
          5473.0498046875,
          5474.56982421875,
          5477.3701171875,
          5472.31982421875,
          5479.1201171875,
          5477.1298828125,
          5481.47998046875,
          5485.06982421875,
          5489.60009765625,
          5499.56982421875,
          5501.2998046875,
          5509.56005859375,
          5521.39990234375,
          5525.64990234375,
          5533.0498046875,
          5547.8798828125,
          5551.43994140625,
          5557.4501953125,
          5559.85986328125,
          5565.0498046875,
          5565.81982421875,
          5570.330078125,
          5583.10986328125,
          5575.5400390625,
          5574.759765625,
          5568.669921875,
          5573.83984375,
          5572.08984375,
          5575.080078125,
          5588.66015625,
          5588.33984375,
          5587.31982421875,
          5590.75,
          5582.7998046875,
          5581.080078125,
          5580.08984375,
          5596.7900390625,
          5596.35986328125,
          5609.43017578125,
          5616.72998046875,
          5617.39013671875,
          5620.93017578125,
          5635.39013671875,
          5642.4501953125,
          5622.18017578125,
          5593.91015625,
          5596.43017578125,
          5589.31005859375,
          5593.68017578125,
          5593.990234375,
          5617.830078125,
          5636.66015625,
          5637.10009765625,
          5643.2001953125,
          5655.56005859375,
          5651.72021484375,
          5647.2099609375,
          5646.740234375,
          5666.93994140625,
          5660.1201171875,
          5649.43017578125,
          5636.7099609375,
          5644.16015625,
          5641.2900390625,
          5654.9599609375,
          5663.02978515625,
          5654.22998046875,
          5654.02001953125,
          5654.2099609375,
          5664.27001953125,
          5669.669921875,
          5622.490234375,
          5608.52001953125,
          5604.18017578125,
          5597.97998046875,
          5599.14990234375,
          5601.259765625,
          5600.509765625,
          5614.0498046875,
          5606.85986328125,
          5561.02978515625,
          5567.77001953125,
          5566.2001953125,
          5546.27001953125,
          5556.25,
          5557.5,
          5537.0400390625,
          5532.47021484375,
          5519.25,
          5514.5,
          5522.009765625,
          5518.33984375
         ],
         "low": [
          5487.919921875,
          5490.85009765625,
          5473.759765625,
          5461.919921875,
          5455.56005859375,
          5462.02001953125,
          5470.5,
          5452.02978515625,
          5460.33984375,
          5462.330078125,
          5460.81982421875,
          5457.18017578125,
          5461.58984375,
          5461.8701171875,
          5458.5,
          5468.080078125,
          5476.7998046875,
          5461.1201171875,
          5455.509765625,
          5455.5498046875,
          5447.58984375,
          5451.4599609375,
          5455.72021484375,
          5456.259765625,
          5446.56005859375,
          5455.97998046875,
          5460.6201171875,
          5463.89990234375,
          5452.9501953125,
          5451.8701171875,
          5457.77001953125,
          5461.77978515625,
          5464.169921875,
          5462.64013671875,
          5466.259765625,
          5473.580078125,
          5470.91015625,
          5468.080078125,
          5477.7099609375,
          5468.27001953125,
          5467.5400390625,
          5473.2900390625,
          5486.72021484375,
          5494.25,
          5483.0498046875,
          5476.2001953125,
          5473.490234375,
          5466.8701171875,
          5451.1201171875,
          5446.66015625,
          5446.52978515625,
          5457.47021484375,
          5466.35986328125,
          5465.990234375,
          5459.580078125,
          5463.669921875,
          5458.43017578125,
          5471.5498046875,
          5472.0400390625,
          5477,
          5485.4599609375,
          5495.68017578125,
          5499.3798828125,
          5507.419921875,
          5512,
          5519.93994140625,
          5531.6298828125,
          5538.47021484375,
          5548.9599609375,
          5551.2001953125,
          5558.419921875,
          5558.68017578125,
          5562.580078125,
          5570.64990234375,
          5568.64013671875,
          5562.509765625,
          5564.31005859375,
          5568.509765625,
          5562.580078125,
          5564.77978515625,
          5577.33984375,
          5576.66015625,
          5577.7900390625,
          5577.14990234375,
          5576.669921875,
          5574.56982421875,
          5575.02978515625,
          5587.080078125,
          5586.43994140625,
          5596.14013671875,
          5606.22998046875,
          5611.75,
          5614.240234375,
          5618.77001953125,
          5611.43994140625,
          5590.02001953125,
          5580.22021484375,
          5578.10009765625,
          5576.52978515625,
          5580.72021484375,
          5584.06982421875,
          5590.43994140625,
          5615.83984375,
          5620.4599609375,
          5623.64990234375,
          5641.490234375,
          5644.77001953125,
          5609.7099609375,
          5632.64013671875,
          5645.56982421875,
          5640.169921875,
          5632.64013671875,
          5625.77978515625,
          5635.10986328125,
          5614.75,
          5639.02001953125,
          5642.77001953125,
          5641.10009765625,
          5641.240234375,
          5643.9599609375,
          5651.33984375,
          5658.8798828125,
          5596.72021484375,
          5596.919921875,
          5590.68994140625,
          5584.81005859375,
          5586.7900390625,
          5588.6201171875,
          5587.259765625,
          5595.14013671875,
          5555.31005859375,
          5542.009765625,
          5545.2099609375,
          5544.14013671875,
          5522.81005859375,
          5529.9501953125,
          5528.35986328125,
          5514.2001953125,
          5509.47998046875,
          5497.0400390625,
          5499.1201171875,
          5498.41015625,
          5499.1298828125
         ],
         "open": [
          5499.990234375,
          5495.31005859375,
          5492.7998046875,
          5473.83984375,
          5464.1201171875,
          5484.669921875,
          5475.47021484375,
          5466.77001953125,
          5464.9501953125,
          5465.93017578125,
          5474.240234375,
          5462.5498046875,
          5468.759765625,
          5465.4501953125,
          5459.580078125,
          5474.97998046875,
          5482.18994140625,
          5481,
          5463.77978515625,
          5458.35009765625,
          5463.169921875,
          5460.72998046875,
          5460.9599609375,
          5462.580078125,
          5458.080078125,
          5458,
          5470.14990234375,
          5472.7998046875,
          5460.7099609375,
          5459.18994140625,
          5460.6298828125,
          5473.009765625,
          5466.10986328125,
          5468.7001953125,
          5467.7900390625,
          5473.58984375,
          5486.5400390625,
          5473.7998046875,
          5479.81005859375,
          5484.240234375,
          5469.16015625,
          5478.740234375,
          5488.47998046875,
          5516,
          5498.10986328125,
          5490.22998046875,
          5483.5,
          5474.58984375,
          5468.31982421875,
          5471.080078125,
          5463.33984375,
          5462.85009765625,
          5472.8701171875,
          5471,
          5468.740234375,
          5464.35986328125,
          5461.83984375,
          5473.5400390625,
          5481.10986328125,
          5479.1201171875,
          5487.43017578125,
          5498.4599609375,
          5500.68994140625,
          5507.43994140625,
          5512.47021484375,
          5521.56982421875,
          5537.91015625,
          5541.27978515625,
          5549.10009765625,
          5555.85009765625,
          5558.60986328125,
          5560.22998046875,
          5563.85986328125,
          5572.75,
          5574.509765625,
          5573.97998046875,
          5565.580078125,
          5568.5400390625,
          5572.009765625,
          5565.68017578125,
          5584.240234375,
          5579.52978515625,
          5579.7001953125,
          5586.25,
          5579.3798828125,
          5576.7099609375,
          5577.02978515625,
          5591.259765625,
          5592.77001953125,
          5596.39013671875,
          5608.68994140625,
          5612.72021484375,
          5614.7001953125,
          5619.47998046875,
          5635.2099609375,
          5616.18994140625,
          5591.3798828125,
          5590.8798828125,
          5589.31005859375,
          5580.97998046875,
          5584.06982421875,
          5590.759765625,
          5616.58984375,
          5636.669921875,
          5625.47998046875,
          5643.18994140625,
          5648.93017578125,
          5647.2099609375,
          5638.16015625,
          5645.919921875,
          5656.2998046875,
          5647.47021484375,
          5635.22021484375,
          5636.330078125,
          5639.22021484375,
          5644.08984375,
          5644.43994140625,
          5653.58984375,
          5644.330078125,
          5645.7099609375,
          5652.1298828125,
          5662.6298828125,
          5610.06982421875,
          5605.10986328125,
          5603.60986328125,
          5591.31982421875,
          5591.47021484375,
          5598.14013671875,
          5598.43994140625,
          5608.56005859375,
          5606.85986328125,
          5555.580078125,
          5547.5,
          5561.4599609375,
          5544.02001953125,
          5532.009765625,
          5543.3701171875,
          5528.919921875,
          5514.2099609375,
          5518.52978515625,
          5503.35009765625,
          5504.35986328125,
          5517.9501953125
         ],
         "type": "candlestick",
         "x": [
          "2024-06-20T15:30:00+02:00",
          "2024-06-20T16:30:00+02:00",
          "2024-06-20T17:30:00+02:00",
          "2024-06-20T18:30:00+02:00",
          "2024-06-20T19:30:00+02:00",
          "2024-06-20T20:30:00+02:00",
          "2024-06-20T21:30:00+02:00",
          "2024-06-21T15:30:00+02:00",
          "2024-06-21T16:30:00+02:00",
          "2024-06-21T17:30:00+02:00",
          "2024-06-21T18:30:00+02:00",
          "2024-06-21T19:30:00+02:00",
          "2024-06-21T20:30:00+02:00",
          "2024-06-21T21:30:00+02:00",
          "2024-06-24T15:30:00+02:00",
          "2024-06-24T16:30:00+02:00",
          "2024-06-24T17:30:00+02:00",
          "2024-06-24T18:30:00+02:00",
          "2024-06-24T19:30:00+02:00",
          "2024-06-24T20:30:00+02:00",
          "2024-06-24T21:30:00+02:00",
          "2024-06-25T15:30:00+02:00",
          "2024-06-25T16:30:00+02:00",
          "2024-06-25T17:30:00+02:00",
          "2024-06-25T18:30:00+02:00",
          "2024-06-25T19:30:00+02:00",
          "2024-06-25T20:30:00+02:00",
          "2024-06-25T21:30:00+02:00",
          "2024-06-26T15:30:00+02:00",
          "2024-06-26T16:30:00+02:00",
          "2024-06-26T17:30:00+02:00",
          "2024-06-26T18:30:00+02:00",
          "2024-06-26T19:30:00+02:00",
          "2024-06-26T20:30:00+02:00",
          "2024-06-26T21:30:00+02:00",
          "2024-06-27T15:30:00+02:00",
          "2024-06-27T16:30:00+02:00",
          "2024-06-27T17:30:00+02:00",
          "2024-06-27T18:30:00+02:00",
          "2024-06-27T19:30:00+02:00",
          "2024-06-27T20:30:00+02:00",
          "2024-06-27T21:30:00+02:00",
          "2024-06-28T15:30:00+02:00",
          "2024-06-28T16:30:00+02:00",
          "2024-06-28T17:30:00+02:00",
          "2024-06-28T18:30:00+02:00",
          "2024-06-28T19:30:00+02:00",
          "2024-06-28T20:30:00+02:00",
          "2024-06-28T21:30:00+02:00",
          "2024-07-01T15:30:00+02:00",
          "2024-07-01T16:30:00+02:00",
          "2024-07-01T17:30:00+02:00",
          "2024-07-01T18:30:00+02:00",
          "2024-07-01T19:30:00+02:00",
          "2024-07-01T20:30:00+02:00",
          "2024-07-01T21:30:00+02:00",
          "2024-07-02T15:30:00+02:00",
          "2024-07-02T16:30:00+02:00",
          "2024-07-02T17:30:00+02:00",
          "2024-07-02T18:30:00+02:00",
          "2024-07-02T19:30:00+02:00",
          "2024-07-02T20:30:00+02:00",
          "2024-07-02T21:30:00+02:00",
          "2024-07-03T15:30:00+02:00",
          "2024-07-03T16:30:00+02:00",
          "2024-07-03T17:30:00+02:00",
          "2024-07-05T15:30:00+02:00",
          "2024-07-05T16:30:00+02:00",
          "2024-07-05T17:30:00+02:00",
          "2024-07-05T18:30:00+02:00",
          "2024-07-05T19:30:00+02:00",
          "2024-07-05T20:30:00+02:00",
          "2024-07-05T21:30:00+02:00",
          "2024-07-08T15:30:00+02:00",
          "2024-07-08T16:30:00+02:00",
          "2024-07-08T17:30:00+02:00",
          "2024-07-08T18:30:00+02:00",
          "2024-07-08T19:30:00+02:00",
          "2024-07-08T20:30:00+02:00",
          "2024-07-08T21:30:00+02:00",
          "2024-07-09T15:30:00+02:00",
          "2024-07-09T16:30:00+02:00",
          "2024-07-09T17:30:00+02:00",
          "2024-07-09T18:30:00+02:00",
          "2024-07-09T19:30:00+02:00",
          "2024-07-09T20:30:00+02:00",
          "2024-07-09T21:30:00+02:00",
          "2024-07-10T15:30:00+02:00",
          "2024-07-10T16:30:00+02:00",
          "2024-07-10T17:30:00+02:00",
          "2024-07-10T18:30:00+02:00",
          "2024-07-10T19:30:00+02:00",
          "2024-07-10T20:30:00+02:00",
          "2024-07-10T21:30:00+02:00",
          "2024-07-11T15:30:00+02:00",
          "2024-07-11T16:30:00+02:00",
          "2024-07-11T17:30:00+02:00",
          "2024-07-11T18:30:00+02:00",
          "2024-07-11T19:30:00+02:00",
          "2024-07-11T20:30:00+02:00",
          "2024-07-11T21:30:00+02:00",
          "2024-07-12T15:30:00+02:00",
          "2024-07-12T16:30:00+02:00",
          "2024-07-12T17:30:00+02:00",
          "2024-07-12T18:30:00+02:00",
          "2024-07-12T19:30:00+02:00",
          "2024-07-12T20:30:00+02:00",
          "2024-07-12T21:30:00+02:00",
          "2024-07-15T15:30:00+02:00",
          "2024-07-15T16:30:00+02:00",
          "2024-07-15T17:30:00+02:00",
          "2024-07-15T18:30:00+02:00",
          "2024-07-15T19:30:00+02:00",
          "2024-07-15T20:30:00+02:00",
          "2024-07-15T21:30:00+02:00",
          "2024-07-16T15:30:00+02:00",
          "2024-07-16T16:30:00+02:00",
          "2024-07-16T17:30:00+02:00",
          "2024-07-16T18:30:00+02:00",
          "2024-07-16T19:30:00+02:00",
          "2024-07-16T20:30:00+02:00",
          "2024-07-16T21:30:00+02:00",
          "2024-07-17T15:30:00+02:00",
          "2024-07-17T16:30:00+02:00",
          "2024-07-17T17:30:00+02:00",
          "2024-07-17T18:30:00+02:00",
          "2024-07-17T19:30:00+02:00",
          "2024-07-17T20:30:00+02:00",
          "2024-07-17T21:30:00+02:00",
          "2024-07-18T15:30:00+02:00",
          "2024-07-18T16:30:00+02:00",
          "2024-07-18T17:30:00+02:00",
          "2024-07-18T18:30:00+02:00",
          "2024-07-18T19:30:00+02:00",
          "2024-07-18T20:30:00+02:00",
          "2024-07-18T21:30:00+02:00",
          "2024-07-19T15:30:00+02:00",
          "2024-07-19T16:30:00+02:00",
          "2024-07-19T17:30:00+02:00",
          "2024-07-19T18:30:00+02:00",
          "2024-07-19T19:30:00+02:00",
          "2024-07-19T20:30:00+02:00",
          "2024-07-19T21:30:00+02:00"
         ]
        }
       ],
       "layout": {
        "autosize": true,
        "dragmode": "drawline",
        "modebar": {
         "add": [
          "drawline",
          "eraseshape"
         ]
        },
        "newshape": {
         "line": {
          "color": "red"
         }
        },
        "showlegend": false,
        "template": {
         "data": {
          "candlestick": [
           {
            "decreasing": {
             "line": {
              "color": "#000033"
             }
            },
            "increasing": {
             "line": {
              "color": "#000032"
             }
            },
            "type": "candlestick"
           }
          ],
          "contour": [
           {
            "colorscale": [
             [
              0,
              "#000011"
             ],
             [
              0.1111111111111111,
              "#000012"
             ],
             [
              0.2222222222222222,
              "#000013"
             ],
             [
              0.3333333333333333,
              "#000014"
             ],
             [
              0.4444444444444444,
              "#000015"
             ],
             [
              0.5555555555555556,
              "#000016"
             ],
             [
              0.6666666666666666,
              "#000017"
             ],
             [
              0.7777777777777778,
              "#000018"
             ],
             [
              0.8888888888888888,
              "#000019"
             ],
             [
              1,
              "#000020"
             ]
            ],
            "type": "contour"
           }
          ],
          "contourcarpet": [
           {
            "colorscale": [
             [
              0,
              "#000011"
             ],
             [
              0.1111111111111111,
              "#000012"
             ],
             [
              0.2222222222222222,
              "#000013"
             ],
             [
              0.3333333333333333,
              "#000014"
             ],
             [
              0.4444444444444444,
              "#000015"
             ],
             [
              0.5555555555555556,
              "#000016"
             ],
             [
              0.6666666666666666,
              "#000017"
             ],
             [
              0.7777777777777778,
              "#000018"
             ],
             [
              0.8888888888888888,
              "#000019"
             ],
             [
              1,
              "#000020"
             ]
            ],
            "type": "contourcarpet"
           }
          ],
          "heatmap": [
           {
            "colorscale": [
             [
              0,
              "#000011"
             ],
             [
              0.1111111111111111,
              "#000012"
             ],
             [
              0.2222222222222222,
              "#000013"
             ],
             [
              0.3333333333333333,
              "#000014"
             ],
             [
              0.4444444444444444,
              "#000015"
             ],
             [
              0.5555555555555556,
              "#000016"
             ],
             [
              0.6666666666666666,
              "#000017"
             ],
             [
              0.7777777777777778,
              "#000018"
             ],
             [
              0.8888888888888888,
              "#000019"
             ],
             [
              1,
              "#000020"
             ]
            ],
            "type": "heatmap"
           }
          ],
          "histogram2d": [
           {
            "colorscale": [
             [
              0,
              "#000011"
             ],
             [
              0.1111111111111111,
              "#000012"
             ],
             [
              0.2222222222222222,
              "#000013"
             ],
             [
              0.3333333333333333,
              "#000014"
             ],
             [
              0.4444444444444444,
              "#000015"
             ],
             [
              0.5555555555555556,
              "#000016"
             ],
             [
              0.6666666666666666,
              "#000017"
             ],
             [
              0.7777777777777778,
              "#000018"
             ],
             [
              0.8888888888888888,
              "#000019"
             ],
             [
              1,
              "#000020"
             ]
            ],
            "type": "histogram2d"
           }
          ],
          "icicle": [
           {
            "textfont": {
             "color": "white"
            },
            "type": "icicle"
           }
          ],
          "sankey": [
           {
            "textfont": {
             "color": "#000036"
            },
            "type": "sankey"
           }
          ],
          "scatter": [
           {
            "marker": {
             "line": {
              "width": 0
             }
            },
            "type": "scatter"
           }
          ],
          "table": [
           {
            "cells": {
             "fill": {
              "color": "#000038"
             },
             "font": {
              "color": "#000037"
             },
             "line": {
              "color": "#000039"
             }
            },
            "header": {
             "fill": {
              "color": "#000040"
             },
             "font": {
              "color": "#000036"
             },
             "line": {
              "color": "#000039"
             }
            },
            "type": "table"
           }
          ],
          "waterfall": [
           {
            "connector": {
             "line": {
              "color": "#000036",
              "width": 2
             }
            },
            "decreasing": {
             "marker": {
              "color": "#000033"
             }
            },
            "increasing": {
             "marker": {
              "color": "#000032"
             }
            },
            "totals": {
             "marker": {
              "color": "#000034"
             }
            },
            "type": "waterfall"
           }
          ]
         },
         "layout": {
          "coloraxis": {
           "colorscale": [
            [
             0,
             "#000011"
            ],
            [
             0.1111111111111111,
             "#000012"
            ],
            [
             0.2222222222222222,
             "#000013"
            ],
            [
             0.3333333333333333,
             "#000014"
            ],
            [
             0.4444444444444444,
             "#000015"
            ],
            [
             0.5555555555555556,
             "#000016"
            ],
            [
             0.6666666666666666,
             "#000017"
            ],
            [
             0.7777777777777778,
             "#000018"
            ],
            [
             0.8888888888888888,
             "#000019"
            ],
            [
             1,
             "#000020"
            ]
           ]
          },
          "colorscale": {
           "diverging": [
            [
             0,
             "#000021"
            ],
            [
             0.1,
             "#000022"
            ],
            [
             0.2,
             "#000023"
            ],
            [
             0.3,
             "#000024"
            ],
            [
             0.4,
             "#000025"
            ],
            [
             0.5,
             "#000026"
            ],
            [
             0.6,
             "#000027"
            ],
            [
             0.7,
             "#000028"
            ],
            [
             0.8,
             "#000029"
            ],
            [
             0.9,
             "#000030"
            ],
            [
             1,
             "#000031"
            ]
           ],
           "sequential": [
            [
             0,
             "#000011"
            ],
            [
             0.1111111111111111,
             "#000012"
            ],
            [
             0.2222222222222222,
             "#000013"
            ],
            [
             0.3333333333333333,
             "#000014"
            ],
            [
             0.4444444444444444,
             "#000015"
            ],
            [
             0.5555555555555556,
             "#000016"
            ],
            [
             0.6666666666666666,
             "#000017"
            ],
            [
             0.7777777777777778,
             "#000018"
            ],
            [
             0.8888888888888888,
             "#000019"
            ],
            [
             1,
             "#000020"
            ]
           ],
           "sequentialminus": [
            [
             0,
             "#000011"
            ],
            [
             0.1111111111111111,
             "#000012"
            ],
            [
             0.2222222222222222,
             "#000013"
            ],
            [
             0.3333333333333333,
             "#000014"
            ],
            [
             0.4444444444444444,
             "#000015"
            ],
            [
             0.5555555555555556,
             "#000016"
            ],
            [
             0.6666666666666666,
             "#000017"
            ],
            [
             0.7777777777777778,
             "#000018"
            ],
            [
             0.8888888888888888,
             "#000019"
            ],
            [
             1,
             "#000020"
            ]
           ]
          },
          "colorway": [
           "#000001",
           "#000002",
           "#000003",
           "#000004",
           "#000005",
           "#000006",
           "#000007",
           "#000008",
           "#000009",
           "#000010"
          ]
         }
        },
        "xaxis": {
         "autorange": true,
         "range": [
          "2024-06-20 15:00",
          "2024-07-19 22:00"
         ],
         "rangebreaks": [
          {
           "bounds": [
            21.55,
            15
           ],
           "pattern": "hour"
          }
         ],
         "rangeslider": {
          "visible": false,
          "yaxis": {}
         },
         "title": {
          "text": ""
         },
         "type": "date"
        },
        "yaxis": {
         "autorange": true,
         "gridcolor": "rgba(200, 200, 200, 0.03)",
         "gridwidth": 1,
         "range": [
          5434.133110894098,
          5682.066596137152
         ],
         "title": {
          "text": ""
         }
        }
       }
      },
      "image/png": "[encoded data removed]",
      "text/html": [
       "<div>                            <div id=\"0ffb7c2e-b676-4c97-889b-f3b9f79abce8\" class=\"plotly-graph-div\" style=\"height:700px; width:100%;\"></div>            <script type=\"text/javascript\">                require([\"plotly\"], function(Plotly) {                    window.PLOTLYENV=window.PLOTLYENV || {};                                    if (document.getElementById(\"0ffb7c2e-b676-4c97-889b-f3b9f79abce8\")) {                    Plotly.newPlot(                        \"0ffb7c2e-b676-4c97-889b-f3b9f79abce8\",                        [{\"close\":[5495.52001953125,5492.77001953125,5473.759765625,5464.10986328125,5484.669921875,5475.22998046875,5472.4599609375,5464.9599609375,5465.89990234375,5474.25,5462.56982421875,5468.77978515625,5465.43994140625,5467.64990234375,5474.85009765625,5482.27001953125,5481.1298828125,5463.81005859375,5458.25,5463.18994140625,5448.93017578125,5460.85986328125,5462.60986328125,5458.06005859375,5457.89013671875,5470.14013671875,5472.72021484375,5470.43994140625,5458.990234375,5460.64990234375,5472.9501953125,5466.10986328125,5468.72998046875,5467.759765625,5478.60986328125,5486.91015625,5473.669921875,5479.7099609375,5484.18994140625,5469.25,5478.740234375,5482.10009765625,5516.009765625,5498.02001953125,5490.22998046875,5483.52978515625,5474.6201171875,5468.39013671875,5459.16015625,5463.0,5462.93017578125,5472.919921875,5471.02001953125,5468.75,5464.35009765625,5474.5,5473.43017578125,5481.10009765625,5479.10009765625,5487.47021484375,5498.39013671875,5500.669921875,5509.27978515625,5512.60986328125,5521.509765625,5532.5400390625,5541.169921875,5549.1201171875,5556.08984375,5558.58984375,5560.1298828125,5563.81982421875,5566.68994140625,5574.509765625,5574.009765625,5565.58984375,5568.5400390625,5571.9599609375,5565.68017578125,5572.1298828125,5579.509765625,5579.64990234375,5586.3701171875,5579.3798828125,5576.68994140625,5577.0,5577.52001953125,5592.7998046875,5596.35986328125,5608.31005859375,5612.72998046875,5614.52001953125,5619.3798828125,5632.97998046875,5616.35986328125,5591.39990234375,5590.93017578125,5589.2900390625,5580.89990234375,5584.16015625,5585.509765625,5616.6298828125,5636.66015625,5625.39990234375,5643.18017578125,5648.81982421875,5647.22021484375,5615.93017578125,5646.240234375,5656.43994140625,5647.490234375,5635.27978515625,5636.330078125,5639.22021484375,5632.56005859375,5644.419921875,5653.7001953125,5644.3798828125,5645.759765625,5652.22998046875,5662.669921875,5667.56005859375,5605.169921875,5603.6298828125,5591.41015625,5591.52001953125,5598.27978515625,5598.47021484375,5588.18994140625,5606.8798828125,5555.64013671875,5547.330078125,5561.39990234375,5544.18017578125,5532.16015625,5545.25,5528.83984375,5514.259765625,5518.60986328125,5503.33984375,5504.18994140625,5517.93017578125,5505.0],\"high\":[5505.3701171875,5499.509765625,5495.43017578125,5480.83984375,5485.60009765625,5485.72998046875,5481.4501953125,5471.10986328125,5473.8701171875,5478.31005859375,5474.9501953125,5469.080078125,5469.64013671875,5473.009765625,5490.66015625,5484.68994140625,5483.8701171875,5483.02001953125,5466.3701171875,5467.60986328125,5464.8798828125,5463.10986328125,5466.39013671875,5465.669921875,5458.1298828125,5470.16015625,5472.8798828125,5472.7998046875,5468.8701171875,5466.919921875,5475.56982421875,5474.2099609375,5470.52978515625,5472.009765625,5483.14013671875,5490.81005859375,5489.56005859375,5481.52001953125,5484.60986328125,5485.56005859375,5479.0498046875,5482.10009765625,5523.47021484375,5521.39990234375,5503.3701171875,5491.52978515625,5486.18017578125,5476.85986328125,5474.7001953125,5479.5498046875,5464.02001953125,5473.0498046875,5474.56982421875,5477.3701171875,5472.31982421875,5479.1201171875,5477.1298828125,5481.47998046875,5485.06982421875,5489.60009765625,5499.56982421875,5501.2998046875,5509.56005859375,5521.39990234375,5525.64990234375,5533.0498046875,5547.8798828125,5551.43994140625,5557.4501953125,5559.85986328125,5565.0498046875,5565.81982421875,5570.330078125,5583.10986328125,5575.5400390625,5574.759765625,5568.669921875,5573.83984375,5572.08984375,5575.080078125,5588.66015625,5588.33984375,5587.31982421875,5590.75,5582.7998046875,5581.080078125,5580.08984375,5596.7900390625,5596.35986328125,5609.43017578125,5616.72998046875,5617.39013671875,5620.93017578125,5635.39013671875,5642.4501953125,5622.18017578125,5593.91015625,5596.43017578125,5589.31005859375,5593.68017578125,5593.990234375,5617.830078125,5636.66015625,5637.10009765625,5643.2001953125,5655.56005859375,5651.72021484375,5647.2099609375,5646.740234375,5666.93994140625,5660.1201171875,5649.43017578125,5636.7099609375,5644.16015625,5641.2900390625,5654.9599609375,5663.02978515625,5654.22998046875,5654.02001953125,5654.2099609375,5664.27001953125,5669.669921875,5622.490234375,5608.52001953125,5604.18017578125,5597.97998046875,5599.14990234375,5601.259765625,5600.509765625,5614.0498046875,5606.85986328125,5561.02978515625,5567.77001953125,5566.2001953125,5546.27001953125,5556.25,5557.5,5537.0400390625,5532.47021484375,5519.25,5514.5,5522.009765625,5518.33984375],\"low\":[5487.919921875,5490.85009765625,5473.759765625,5461.919921875,5455.56005859375,5462.02001953125,5470.5,5452.02978515625,5460.33984375,5462.330078125,5460.81982421875,5457.18017578125,5461.58984375,5461.8701171875,5458.5,5468.080078125,5476.7998046875,5461.1201171875,5455.509765625,5455.5498046875,5447.58984375,5451.4599609375,5455.72021484375,5456.259765625,5446.56005859375,5455.97998046875,5460.6201171875,5463.89990234375,5452.9501953125,5451.8701171875,5457.77001953125,5461.77978515625,5464.169921875,5462.64013671875,5466.259765625,5473.580078125,5470.91015625,5468.080078125,5477.7099609375,5468.27001953125,5467.5400390625,5473.2900390625,5486.72021484375,5494.25,5483.0498046875,5476.2001953125,5473.490234375,5466.8701171875,5451.1201171875,5446.66015625,5446.52978515625,5457.47021484375,5466.35986328125,5465.990234375,5459.580078125,5463.669921875,5458.43017578125,5471.5498046875,5472.0400390625,5477.0,5485.4599609375,5495.68017578125,5499.3798828125,5507.419921875,5512.0,5519.93994140625,5531.6298828125,5538.47021484375,5548.9599609375,5551.2001953125,5558.419921875,5558.68017578125,5562.580078125,5570.64990234375,5568.64013671875,5562.509765625,5564.31005859375,5568.509765625,5562.580078125,5564.77978515625,5577.33984375,5576.66015625,5577.7900390625,5577.14990234375,5576.669921875,5574.56982421875,5575.02978515625,5587.080078125,5586.43994140625,5596.14013671875,5606.22998046875,5611.75,5614.240234375,5618.77001953125,5611.43994140625,5590.02001953125,5580.22021484375,5578.10009765625,5576.52978515625,5580.72021484375,5584.06982421875,5590.43994140625,5615.83984375,5620.4599609375,5623.64990234375,5641.490234375,5644.77001953125,5609.7099609375,5632.64013671875,5645.56982421875,5640.169921875,5632.64013671875,5625.77978515625,5635.10986328125,5614.75,5639.02001953125,5642.77001953125,5641.10009765625,5641.240234375,5643.9599609375,5651.33984375,5658.8798828125,5596.72021484375,5596.919921875,5590.68994140625,5584.81005859375,5586.7900390625,5588.6201171875,5587.259765625,5595.14013671875,5555.31005859375,5542.009765625,5545.2099609375,5544.14013671875,5522.81005859375,5529.9501953125,5528.35986328125,5514.2001953125,5509.47998046875,5497.0400390625,5499.1201171875,5498.41015625,5499.1298828125],\"open\":[5499.990234375,5495.31005859375,5492.7998046875,5473.83984375,5464.1201171875,5484.669921875,5475.47021484375,5466.77001953125,5464.9501953125,5465.93017578125,5474.240234375,5462.5498046875,5468.759765625,5465.4501953125,5459.580078125,5474.97998046875,5482.18994140625,5481.0,5463.77978515625,5458.35009765625,5463.169921875,5460.72998046875,5460.9599609375,5462.580078125,5458.080078125,5458.0,5470.14990234375,5472.7998046875,5460.7099609375,5459.18994140625,5460.6298828125,5473.009765625,5466.10986328125,5468.7001953125,5467.7900390625,5473.58984375,5486.5400390625,5473.7998046875,5479.81005859375,5484.240234375,5469.16015625,5478.740234375,5488.47998046875,5516.0,5498.10986328125,5490.22998046875,5483.5,5474.58984375,5468.31982421875,5471.080078125,5463.33984375,5462.85009765625,5472.8701171875,5471.0,5468.740234375,5464.35986328125,5461.83984375,5473.5400390625,5481.10986328125,5479.1201171875,5487.43017578125,5498.4599609375,5500.68994140625,5507.43994140625,5512.47021484375,5521.56982421875,5537.91015625,5541.27978515625,5549.10009765625,5555.85009765625,5558.60986328125,5560.22998046875,5563.85986328125,5572.75,5574.509765625,5573.97998046875,5565.580078125,5568.5400390625,5572.009765625,5565.68017578125,5584.240234375,5579.52978515625,5579.7001953125,5586.25,5579.3798828125,5576.7099609375,5577.02978515625,5591.259765625,5592.77001953125,5596.39013671875,5608.68994140625,5612.72021484375,5614.7001953125,5619.47998046875,5635.2099609375,5616.18994140625,5591.3798828125,5590.8798828125,5589.31005859375,5580.97998046875,5584.06982421875,5590.759765625,5616.58984375,5636.669921875,5625.47998046875,5643.18994140625,5648.93017578125,5647.2099609375,5638.16015625,5645.919921875,5656.2998046875,5647.47021484375,5635.22021484375,5636.330078125,5639.22021484375,5644.08984375,5644.43994140625,5653.58984375,5644.330078125,5645.7099609375,5652.1298828125,5662.6298828125,5610.06982421875,5605.10986328125,5603.60986328125,5591.31982421875,5591.47021484375,5598.14013671875,5598.43994140625,5608.56005859375,5606.85986328125,5555.580078125,5547.5,5561.4599609375,5544.02001953125,5532.009765625,5543.3701171875,5528.919921875,5514.2099609375,5518.52978515625,5503.35009765625,5504.35986328125,5517.9501953125],\"x\":[\"2024-06-20T15:30:00+02:00\",\"2024-06-20T16:30:00+02:00\",\"2024-06-20T17:30:00+02:00\",\"2024-06-20T18:30:00+02:00\",\"2024-06-20T19:30:00+02:00\",\"2024-06-20T20:30:00+02:00\",\"2024-06-20T21:30:00+02:00\",\"2024-06-21T15:30:00+02:00\",\"2024-06-21T16:30:00+02:00\",\"2024-06-21T17:30:00+02:00\",\"2024-06-21T18:30:00+02:00\",\"2024-06-21T19:30:00+02:00\",\"2024-06-21T20:30:00+02:00\",\"2024-06-21T21:30:00+02:00\",\"2024-06-24T15:30:00+02:00\",\"2024-06-24T16:30:00+02:00\",\"2024-06-24T17:30:00+02:00\",\"2024-06-24T18:30:00+02:00\",\"2024-06-24T19:30:00+02:00\",\"2024-06-24T20:30:00+02:00\",\"2024-06-24T21:30:00+02:00\",\"2024-06-25T15:30:00+02:00\",\"2024-06-25T16:30:00+02:00\",\"2024-06-25T17:30:00+02:00\",\"2024-06-25T18:30:00+02:00\",\"2024-06-25T19:30:00+02:00\",\"2024-06-25T20:30:00+02:00\",\"2024-06-25T21:30:00+02:00\",\"2024-06-26T15:30:00+02:00\",\"2024-06-26T16:30:00+02:00\",\"2024-06-26T17:30:00+02:00\",\"2024-06-26T18:30:00+02:00\",\"2024-06-26T19:30:00+02:00\",\"2024-06-26T20:30:00+02:00\",\"2024-06-26T21:30:00+02:00\",\"2024-06-27T15:30:00+02:00\",\"2024-06-27T16:30:00+02:00\",\"2024-06-27T17:30:00+02:00\",\"2024-06-27T18:30:00+02:00\",\"2024-06-27T19:30:00+02:00\",\"2024-06-27T20:30:00+02:00\",\"2024-06-27T21:30:00+02:00\",\"2024-06-28T15:30:00+02:00\",\"2024-06-28T16:30:00+02:00\",\"2024-06-28T17:30:00+02:00\",\"2024-06-28T18:30:00+02:00\",\"2024-06-28T19:30:00+02:00\",\"2024-06-28T20:30:00+02:00\",\"2024-06-28T21:30:00+02:00\",\"2024-07-01T15:30:00+02:00\",\"2024-07-01T16:30:00+02:00\",\"2024-07-01T17:30:00+02:00\",\"2024-07-01T18:30:00+02:00\",\"2024-07-01T19:30:00+02:00\",\"2024-07-01T20:30:00+02:00\",\"2024-07-01T21:30:00+02:00\",\"2024-07-02T15:30:00+02:00\",\"2024-07-02T16:30:00+02:00\",\"2024-07-02T17:30:00+02:00\",\"2024-07-02T18:30:00+02:00\",\"2024-07-02T19:30:00+02:00\",\"2024-07-02T20:30:00+02:00\",\"2024-07-02T21:30:00+02:00\",\"2024-07-03T15:30:00+02:00\",\"2024-07-03T16:30:00+02:00\",\"2024-07-03T17:30:00+02:00\",\"2024-07-05T15:30:00+02:00\",\"2024-07-05T16:30:00+02:00\",\"2024-07-05T17:30:00+02:00\",\"2024-07-05T18:30:00+02:00\",\"2024-07-05T19:30:00+02:00\",\"2024-07-05T20:30:00+02:00\",\"2024-07-05T21:30:00+02:00\",\"2024-07-08T15:30:00+02:00\",\"2024-07-08T16:30:00+02:00\",\"2024-07-08T17:30:00+02:00\",\"2024-07-08T18:30:00+02:00\",\"2024-07-08T19:30:00+02:00\",\"2024-07-08T20:30:00+02:00\",\"2024-07-08T21:30:00+02:00\",\"2024-07-09T15:30:00+02:00\",\"2024-07-09T16:30:00+02:00\",\"2024-07-09T17:30:00+02:00\",\"2024-07-09T18:30:00+02:00\",\"2024-07-09T19:30:00+02:00\",\"2024-07-09T20:30:00+02:00\",\"2024-07-09T21:30:00+02:00\",\"2024-07-10T15:30:00+02:00\",\"2024-07-10T16:30:00+02:00\",\"2024-07-10T17:30:00+02:00\",\"2024-07-10T18:30:00+02:00\",\"2024-07-10T19:30:00+02:00\",\"2024-07-10T20:30:00+02:00\",\"2024-07-10T21:30:00+02:00\",\"2024-07-11T15:30:00+02:00\",\"2024-07-11T16:30:00+02:00\",\"2024-07-11T17:30:00+02:00\",\"2024-07-11T18:30:00+02:00\",\"2024-07-11T19:30:00+02:00\",\"2024-07-11T20:30:00+02:00\",\"2024-07-11T21:30:00+02:00\",\"2024-07-12T15:30:00+02:00\",\"2024-07-12T16:30:00+02:00\",\"2024-07-12T17:30:00+02:00\",\"2024-07-12T18:30:00+02:00\",\"2024-07-12T19:30:00+02:00\",\"2024-07-12T20:30:00+02:00\",\"2024-07-12T21:30:00+02:00\",\"2024-07-15T15:30:00+02:00\",\"2024-07-15T16:30:00+02:00\",\"2024-07-15T17:30:00+02:00\",\"2024-07-15T18:30:00+02:00\",\"2024-07-15T19:30:00+02:00\",\"2024-07-15T20:30:00+02:00\",\"2024-07-15T21:30:00+02:00\",\"2024-07-16T15:30:00+02:00\",\"2024-07-16T16:30:00+02:00\",\"2024-07-16T17:30:00+02:00\",\"2024-07-16T18:30:00+02:00\",\"2024-07-16T19:30:00+02:00\",\"2024-07-16T20:30:00+02:00\",\"2024-07-16T21:30:00+02:00\",\"2024-07-17T15:30:00+02:00\",\"2024-07-17T16:30:00+02:00\",\"2024-07-17T17:30:00+02:00\",\"2024-07-17T18:30:00+02:00\",\"2024-07-17T19:30:00+02:00\",\"2024-07-17T20:30:00+02:00\",\"2024-07-17T21:30:00+02:00\",\"2024-07-18T15:30:00+02:00\",\"2024-07-18T16:30:00+02:00\",\"2024-07-18T17:30:00+02:00\",\"2024-07-18T18:30:00+02:00\",\"2024-07-18T19:30:00+02:00\",\"2024-07-18T20:30:00+02:00\",\"2024-07-18T21:30:00+02:00\",\"2024-07-19T15:30:00+02:00\",\"2024-07-19T16:30:00+02:00\",\"2024-07-19T17:30:00+02:00\",\"2024-07-19T18:30:00+02:00\",\"2024-07-19T19:30:00+02:00\",\"2024-07-19T20:30:00+02:00\",\"2024-07-19T21:30:00+02:00\"],\"type\":\"candlestick\"}],                        {\"template\":{\"data\":{\"candlestick\":[{\"decreasing\":{\"line\":{\"color\":\"#000033\"}},\"increasing\":{\"line\":{\"color\":\"#000032\"}},\"type\":\"candlestick\"}],\"contourcarpet\":[{\"colorscale\":[[0.0,\"#000011\"],[0.1111111111111111,\"#000012\"],[0.2222222222222222,\"#000013\"],[0.3333333333333333,\"#000014\"],[0.4444444444444444,\"#000015\"],[0.5555555555555556,\"#000016\"],[0.6666666666666666,\"#000017\"],[0.7777777777777778,\"#000018\"],[0.8888888888888888,\"#000019\"],[1.0,\"#000020\"]],\"type\":\"contourcarpet\"}],\"contour\":[{\"colorscale\":[[0.0,\"#000011\"],[0.1111111111111111,\"#000012\"],[0.2222222222222222,\"#000013\"],[0.3333333333333333,\"#000014\"],[0.4444444444444444,\"#000015\"],[0.5555555555555556,\"#000016\"],[0.6666666666666666,\"#000017\"],[0.7777777777777778,\"#000018\"],[0.8888888888888888,\"#000019\"],[1.0,\"#000020\"]],\"type\":\"contour\"}],\"heatmap\":[{\"colorscale\":[[0.0,\"#000011\"],[0.1111111111111111,\"#000012\"],[0.2222222222222222,\"#000013\"],[0.3333333333333333,\"#000014\"],[0.4444444444444444,\"#000015\"],[0.5555555555555556,\"#000016\"],[0.6666666666666666,\"#000017\"],[0.7777777777777778,\"#000018\"],[0.8888888888888888,\"#000019\"],[1.0,\"#000020\"]],\"type\":\"heatmap\"}],\"histogram2d\":[{\"colorscale\":[[0.0,\"#000011\"],[0.1111111111111111,\"#000012\"],[0.2222222222222222,\"#000013\"],[0.3333333333333333,\"#000014\"],[0.4444444444444444,\"#000015\"],[0.5555555555555556,\"#000016\"],[0.6666666666666666,\"#000017\"],[0.7777777777777778,\"#000018\"],[0.8888888888888888,\"#000019\"],[1.0,\"#000020\"]],\"type\":\"histogram2d\"}],\"icicle\":[{\"textfont\":{\"color\":\"white\"},\"type\":\"icicle\"}],\"sankey\":[{\"textfont\":{\"color\":\"#000036\"},\"type\":\"sankey\"}],\"scatter\":[{\"marker\":{\"line\":{\"width\":0}},\"type\":\"scatter\"}],\"table\":[{\"cells\":{\"fill\":{\"color\":\"#000038\"},\"font\":{\"color\":\"#000037\"},\"line\":{\"color\":\"#000039\"}},\"header\":{\"fill\":{\"color\":\"#000040\"},\"font\":{\"color\":\"#000036\"},\"line\":{\"color\":\"#000039\"}},\"type\":\"table\"}],\"waterfall\":[{\"connector\":{\"line\":{\"color\":\"#000036\",\"width\":2}},\"decreasing\":{\"marker\":{\"color\":\"#000033\"}},\"increasing\":{\"marker\":{\"color\":\"#000032\"}},\"totals\":{\"marker\":{\"color\":\"#000034\"}},\"type\":\"waterfall\"}]},\"layout\":{\"coloraxis\":{\"colorscale\":[[0.0,\"#000011\"],[0.1111111111111111,\"#000012\"],[0.2222222222222222,\"#000013\"],[0.3333333333333333,\"#000014\"],[0.4444444444444444,\"#000015\"],[0.5555555555555556,\"#000016\"],[0.6666666666666666,\"#000017\"],[0.7777777777777778,\"#000018\"],[0.8888888888888888,\"#000019\"],[1.0,\"#000020\"]]},\"colorscale\":{\"diverging\":[[0.0,\"#000021\"],[0.1,\"#000022\"],[0.2,\"#000023\"],[0.3,\"#000024\"],[0.4,\"#000025\"],[0.5,\"#000026\"],[0.6,\"#000027\"],[0.7,\"#000028\"],[0.8,\"#000029\"],[0.9,\"#000030\"],[1.0,\"#000031\"]],\"sequential\":[[0.0,\"#000011\"],[0.1111111111111111,\"#000012\"],[0.2222222222222222,\"#000013\"],[0.3333333333333333,\"#000014\"],[0.4444444444444444,\"#000015\"],[0.5555555555555556,\"#000016\"],[0.6666666666666666,\"#000017\"],[0.7777777777777778,\"#000018\"],[0.8888888888888888,\"#000019\"],[1.0,\"#000020\"]],\"sequentialminus\":[[0.0,\"#000011\"],[0.1111111111111111,\"#000012\"],[0.2222222222222222,\"#000013\"],[0.3333333333333333,\"#000014\"],[0.4444444444444444,\"#000015\"],[0.5555555555555556,\"#000016\"],[0.6666666666666666,\"#000017\"],[0.7777777777777778,\"#000018\"],[0.8888888888888888,\"#000019\"],[1.0,\"#000020\"]]},\"colorway\":[\"#000001\",\"#000002\",\"#000003\",\"#000004\",\"#000005\",\"#000006\",\"#000007\",\"#000008\",\"#000009\",\"#000010\"]}},\"xaxis\":{\"rangebreaks\":[{\"bounds\":[21.55,15],\"pattern\":\"hour\"}],\"rangeslider\":{\"visible\":false},\"title\":{\"text\":\"\"}},\"yaxis\":{\"title\":{\"text\":\"\"},\"gridcolor\":\"rgba(200, 200, 200, 0.03)\",\"gridwidth\":1},\"newshape\":{\"line\":{\"color\":\"red\"}},\"modebar\":{\"add\":[\"drawline\",\"eraseshape\"]},\"height\":700,\"dragmode\":\"drawline\",\"showlegend\":false},                        {\"responsive\": true}                    ).then(function(){\n",
       "                            \n",
       "var gd = document.getElementById('0ffb7c2e-b676-4c97-889b-f3b9f79abce8');\n",
       "var x = new MutationObserver(function (mutations, observer) {{\n",
       "        var display = window.getComputedStyle(gd).display;\n",
       "        if (!display || display === 'none') {{\n",
       "            console.log([gd, 'removed!']);\n",
       "            Plotly.purge(gd);\n",
       "            observer.disconnect();\n",
       "        }}\n",
       "}});\n",
       "\n",
       "// Listen for the removal of the full notebook cells\n",
       "var notebookContainer = gd.closest('#notebook-container');\n",
       "if (notebookContainer) {{\n",
       "    x.observe(notebookContainer, {childList: true});\n",
       "}}\n",
       "\n",
       "// Listen for the clearing of the current output cell\n",
       "var outputEl = gd.closest('.output');\n",
       "if (outputEl) {{\n",
       "    x.observe(outputEl, {childList: true});\n",
       "}}\n",
       "\n",
       "                        })                };                });            </script>        </div>"
      ]
     },
     "metadata": {},
     "output_type": "display_data"
    }
   ],
   "source": [
    "# Paso 4: Crear el gráfico de Plotly\n",
    "fig = go.Figure(data=[go.Candlestick(\n",
    "    x=data.index,\n",
    "    open=data['Open'],\n",
    "    high=data['High'],\n",
    "    low=data['Low'],\n",
    "    close=data['Close']\n",
    ")])\n",
    "\n",
    "# Actualizar el eje x para eliminar los gaps de fechas faltantes\n",
    "#fig.update_xaxes(\n",
    "##    rangebreaks=[dict(bounds=[\"sat\", \"sun\"]),\n",
    "#                dict(bounds=[22, 14], pattern=\"hour\")\n",
    "#                ]\n",
    "#)\n",
    "\n",
    "# Actualizar el eje x para eliminar los gaps de fechas faltantes\n",
    "fig.update_xaxes(\n",
    "    rangebreaks=[\n",
    "                dict(bounds=[21.55, 15], pattern=\"hour\")\n",
    "                ]\n",
    ")\n",
    "\n",
    "fig.update_layout(xaxis_title='', yaxis_title='',\n",
    "                  yaxis=dict(\n",
    "                            gridcolor='rgba(200, 200, 200, 0.03)',\n",
    "                            gridwidth=1\n",
    "                    ),\n",
    "                  xaxis_rangeslider_visible=False,\n",
    "                  height=700,\n",
    "                  dragmode='drawline',\n",
    "                  shapes=[],\n",
    "                  newshape=dict(line=dict(color=\"red\")),\n",
    "                  modebar_add=['drawline','eraseshape'],\n",
    "                  showlegend=False)\n",
    "\n",
    "# Mostrar el gráfico\n",
    "fig.show()"
   ]
  },
  {
   "cell_type": "code",
   "execution_count": null,
   "id": "eb4316d8-bd33-4073-9f67-8881c19fc202",
   "metadata": {},
   "outputs": [],
   "source": []
  }
 ],
 "metadata": {
  "kernelspec": {
   "display_name": "Python 3 (ipykernel)",
   "language": "python",
   "name": "python3"
  },
  "language_info": {
   "codemirror_mode": {
    "name": "ipython",
    "version": 3
   },
   "file_extension": ".py",
   "mimetype": "text/x-python",
   "name": "python",
   "nbconvert_exporter": "python",
   "pygments_lexer": "ipython3",
   "version": "3.11.9"
  }
 },
 "nbformat": 4,
 "nbformat_minor": 5
}
